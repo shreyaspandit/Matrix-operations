{
 "cells": [
  {
   "cell_type": "markdown",
   "metadata": {},
   "source": [
    "## Reduced Row Echelon Form\n",
    "\n",
    "A matrix $\\mathbf{E} \\in \\mathcal{M}_{m \\times n}(\\mathbb{F})$ is said to be in **reduced row echelon form** if it satisfies the following conditions:\n",
    "\n",
    "* if row $r$ of $\\mathbf{E}$ has any nonzero entries, then the first of these is $1$;\n",
    "* if $1 \\leq r < s \\leq m$ and rows $r$, $s$ of $\\mathbf{E}$ contain nonzero entries, the first of which are $e_{rj}$ and $e_{sk}$ respectively, then $j < k$ (ie. the leading entries of a lower row occurs to the right of the leading entry of the higher row);\n",
    "* if row $r$ of $\\mathbf{E}$ contains nonzero entries but row $s$ does not, then $r < s$ (ie all-zero rows are at the bottom);\n",
    "* if $e_{rk} = 1$ is the leading entry of row $r$ in $\\mathbf{E}$, then $e_{ik} = 0$ for all $k \\neq r$ (ie. a column with a leading entry contains only that leading entry). <br><br>\n",
    "\n",
    "Given any $m \\times n$ matrix $\\mathbf{A}$, we can convert it to reduced row echelon form using **elementary row operations**. The three elementary row operations are:\n",
    "* for any $1\\leq r < s \\leq m$, swap rows $r$ and $s$;\n",
    "* for any $1 \\leq r \\leq m$ and $\\lambda \\neq 0$, multiply row $r$ by $\\lambda$;\n",
    "* for any $1 \\leq r, s \\leq m$ and $\\lambda \\in \\mathbb{F}$, add $\\lambda$ times row $r$ to $s$.\n",
    "\n",
    "The following algorithm describes how a given matrix $\\mathbf{A}$ can be converted to reduced row echelon form:\n",
    "1. Move any all-zero rows to the bottom and swap two rows to ensure the top-left entry is non-zero.\n",
    "2. Multiply row 1 by a suitable scalar to make the top-left entry equal to 1.\n",
    "3. Add suitable multiples of the first row to other rows to clear the first column.\n",
    "4. Repeat the above steps for each row $1 \\leq r \\leq m$ - finding the first non-zero entry of that row, making it equal to 1 and then clearing the column of that entry."
   ]
  },
  {
   "cell_type": "markdown",
   "metadata": {},
   "source": [
    "Here is an example. Take $$\\mathbf{A} = \n",
    "\\begin{pmatrix}\n",
    "0 & 1 & 5 & -4 \\\\\n",
    "1 & 4 & 3 & -2 \\\\\n",
    "2 & 7 & 1 & -2 \\\\\n",
    "\\end{pmatrix}.$$ <br><br>\n",
    "\n",
    "Then we have \n",
    "$$\n",
    "\\begin{align*}\n",
    "\\begin{pmatrix}\n",
    "0 & 1 & 5 & -4 \\\\\n",
    "1 & 4 & 3 & -2 \\\\\n",
    "2 & 7 & 1 & -2 \\\\\n",
    "\\end{pmatrix} \\xrightarrow {\\substack{R_1 \\leftrightarrow R_2 \\\\ R_2 \\rightarrow R_2 - 2R_1}}\n",
    "\\begin{pmatrix}\n",
    "1 & 4 & 3 & -2 \\\\\n",
    "0 & 1 & 5 & -4 \\\\\n",
    "0 & -1 & -5 & 2 \\\\\n",
    "\\end{pmatrix} &\\xrightarrow {\\substack{R_3 \\rightarrow R_3 + R_2 \\\\ R_1 \\rightarrow R_1 - 4R_2 \\\\ R_3 \\rightarrow \\frac{-1}{2} R_3}}\n",
    "\\begin{pmatrix}\n",
    "1 & 0 & -17 & 14 \\\\\n",
    "0 & 1 & 5 & -4 \\\\\n",
    "0 & 0 & 0 & 1 \\\\\n",
    "\\end{pmatrix}\\\\\n",
    "&\\xrightarrow {\\substack{R_2 \\rightarrow R_2 + 4R_3 \\\\ R_1 \\rightarrow R_1 - 14R_3}}\n",
    "\\begin{pmatrix}\n",
    "1 & 0 & -17 & 0 \\\\\n",
    "0 & 1 & 5 & 0 \\\\\n",
    "0 & 0 & 0 & 1 \\\\\n",
    "\\end{pmatrix}.\n",
    "\\end{align*}\n",
    "$$ <br>\n",
    "We now implement this using Python."
   ]
  },
  {
   "cell_type": "code",
   "execution_count": 2,
   "metadata": {},
   "outputs": [],
   "source": [
    "import numpy as np"
   ]
  },
  {
   "cell_type": "markdown",
   "metadata": {},
   "source": [
    "We will have the user input the matrix row by row. First, we ask for the number of rows (```n_rows```) and the number of columns (```n_columns```). The user must then enter the rows of the matrix, with each entry separated by a comma. <br><br> In the numpy library, a matrix may be stored using ```np.matrix```. For example, ```np.matrix('0 1 5 -4; 1 4 3 -2; 2 7 1 -2')``` stores\n",
    "\n",
    "$$\\begin{pmatrix}\n",
    "0 & 1 & 5 & -4 \\\\\n",
    "1 & 4 & 3 & -2 \\\\\n",
    "2 & 7 & 1 & -2 \\\\\n",
    "\\end{pmatrix}.$$\n",
    "\n",
    "We therefore have an array called `rows`, which stores the entry from each row (where each entry is separated by a space). We then apply the `row.split(\" \")` to each row in `rows`. This converts each row in `rows` into an array where the the string has been broken at each space, eg. the row `'1 2 3'` becomes `['1', '2', '3']`. We also convert this to a numpy array. We then apply `astype` to convert each element to a float."
   ]
  },
  {
   "cell_type": "code",
   "execution_count": null,
   "metadata": {},
   "outputs": [],
   "source": [
    "n_rows = int(input(\"Enter the number of rows: \"))\n",
    "n_columns = int(input(\"Enter the number of columns: \"))\n",
    "rows = []\n",
    "for i in range(n_rows):\n",
    "    row = input(\"Enter row \" + str(i+1) + \": \")\n",
    "    rows.append(row.replace(',', ''))\n",
    "\n",
    "rows = np.array([row.split(\" \") for row in rows])\n",
    "matrix = rows.astype(float)\n",
    "matrix"
   ]
  },
  {
   "cell_type": "markdown",
   "metadata": {},
   "source": [
    "We now define the three elemetary row operations:"
   ]
  },
  {
   "cell_type": "code",
   "execution_count": null,
   "metadata": {},
   "outputs": [],
   "source": [
    "def swap_rows(matrix, r, s, factor):\n",
    "    matrix[[r-1, s-1]] = matrix[[s-1, r-1]]\n",
    "    factor *= -factor\n",
    "    return matrix\n",
    "def multiply_row(matrix, r, l, factor):\n",
    "    matrix[r-1] = l * matrix[r-1]\n",
    "    factor *= l\n",
    "    return matrix\n",
    "def add_row_multiple(matrix, l, r, s, factor):\n",
    "    matrix[s-1] += l * matrix[r-1]\n",
    "    return matrix"
   ]
  },
  {
   "cell_type": "markdown",
   "metadata": {},
   "source": [
    "Now we must first shift all of the all-zero rows to the bottom. We therefore define the ```shift_zero_rows()``` function. <br><br>\n",
    "The ```matrix.any(axis=1)``` returns an array with boolean values for each row - returning ```True``` if a row has a non-zero entry and ```False``` if the row is all-zero. We thus loop through this and store which rows are all-zero in the ```all_zero_rows``` array. We subsequently delete those rows from the matrix and append the same number of all-zero rows to the bottom of the matrix. Finally, we want the top-left entry to be equal to 1. To this end, we check if it is already 1 - in which case we simply return the matrix. Otherwise, we go through the first column until we reach the first non-zero entry and swap the first row with this row. We then divide the top-left entry by itself to ensure it is equal to 1 (which we can do since it is non-zero)."
   ]
  },
  {
   "cell_type": "code",
   "execution_count": null,
   "metadata": {},
   "outputs": [],
   "source": [
    "def shift_zero_rows(matrix, factor):\n",
    "    all_zeros = matrix.any(axis=1)\n",
    "    all_zero_rows = []\n",
    "\n",
    "    for i in range(len(all_zeros)):\n",
    "        if all_zeros[i] == False:\n",
    "            all_zero_rows.append(i)\n",
    "    matrix = np.delete(matrix, all_zero_rows, 0)\n",
    "    matrix = np.append(matrix, np.zeros( (len(all_zero_rows), n_columns) ), axis=0)\n",
    "    \n",
    "    if matrix[0, 0] != 0:\n",
    "        matrix = multiply_row(matrix, 1, 1/matrix[0, 0], factor)\n",
    "        return matrix\n",
    "    else:\n",
    "        for r in range(1, n_rows):\n",
    "            if matrix[r, 0] == 0:\n",
    "                continue\n",
    "            else:\n",
    "                matrix = swap_rows(matrix, 1, r+1, factor)\n",
    "                matrix = multiply_row(matrix, 1, 1/matrix[0, 0], factor)\n",
    "                break\n",
    "        return matrix\n",
    "                \n",
    "            \n",
    "# matrix = shift_zero_rows(matrix)"
   ]
  },
  {
   "cell_type": "code",
   "execution_count": null,
   "metadata": {},
   "outputs": [],
   "source": [
    "matrix"
   ]
  },
  {
   "cell_type": "markdown",
   "metadata": {},
   "source": [
    "Now we perform the actual row reduction. Here, **pivot** refers to the first non-zero entry of each row (where it exists) - which should be 1. <br><br> For a given row, we find the first non-zero element in that row (by iterating through the columns). We set this element to be the pivot and multiply the current row by the reciprocal of the pivot to ensure that it becomes $1$. We must now clear the entire column of the pivot. Hence, we iterate through the rows (ensuring to skip the one, on which we have the pivot). Suppose the pivot is the $(r, c)$th entry in the matrix. Then for each each $1 \\leq a \\leq m$ (where $m$ is the number of rows), for $a \\neq r$, we apply $\\rho_a := \\rho_a + (-[\\mathbf{A}]_{ac})\\rho_r$. Repeating this for each $1 \\leq r \\leq m$, we complete the row reduction."
   ]
  },
  {
   "cell_type": "code",
   "execution_count": null,
   "metadata": {},
   "outputs": [],
   "source": [
    "def row_reduce(matrix, find_det = False):\n",
    "    pivot = 0\n",
    "    det = 1\n",
    "    \n",
    "    n_rows = matrix.shape[0]\n",
    "    n_columns = matrix.shape[1]\n",
    "    \n",
    "    matrix = shift_zero_rows(matrix, det)\n",
    "    \n",
    "    for r in range(n_rows):\n",
    "        for c in range(n_columns):\n",
    "            if matrix[r, c] == 0:\n",
    "                continue\n",
    "            else:\n",
    "                pivot = matrix[r, c]\n",
    "                matrix = multiply_row(matrix, r+1, 1/pivot, det)\n",
    "                for a in range(n_rows):\n",
    "                    if a==r:\n",
    "                        continue\n",
    "                    else:\n",
    "                        matrix = add_row_multiple(matrix, -matrix[a, c], r+1, a+1, det)\n",
    "                break\n",
    "        print(matrix)\n",
    "        \n",
    "    if find_det == False:\n",
    "        return matrix\n",
    "    else:\n",
    "        if (matrix.shape[0] != matrix.shape[1]) == True:\n",
    "            return \"Matrix must be square!\"\n",
    "        else:\n",
    "            n = matrix.shape[0]\n",
    "            \n",
    "        for i in range(n):\n",
    "            det *= matrix[i, i]\n",
    "            \n",
    "        return (matrix, det)\n",
    "    \n",
    "    return matrix"
   ]
  },
  {
   "cell_type": "markdown",
   "metadata": {},
   "source": [
    "## Inverses\n",
    "\n",
    "We can now use this to invert matrices. We form the augmented matrix consisting of our original matrix on the left and the identity matrix on the right. It can be shown that a matrix is invertible if and only if it's reduced row echelon form is the identity. Furthermore, reducing our augmented matrix to reduced row echelon form will give us the inverse matrix on the right hand side."
   ]
  },
  {
   "cell_type": "code",
   "execution_count": null,
   "metadata": {},
   "outputs": [],
   "source": [
    "def invert(matrix):\n",
    "    if (matrix.shape[0] != matrix.shape[1]) == True:\n",
    "        return \"Matrix must be square!\"\n",
    "    else:\n",
    "        n = matrix.shape[0]\n",
    "\n",
    "    I = np.identity(n)   \n",
    "    mat = np.concatenate((matrix, I), 1)\n",
    "    red = row_reduce(mat)\n",
    "\n",
    "    if (red[:, :n]==I).all() == False:\n",
    "        return \"Not invertible\"\n",
    "    else:\n",
    "        return red[:, n:]\n",
    "    \n",
    "    return red"
   ]
  },
  {
   "cell_type": "markdown",
   "metadata": {},
   "source": [
    "We now put this all together and include determinants"
   ]
  },
  {
   "cell_type": "code",
   "execution_count": 3,
   "metadata": {},
   "outputs": [],
   "source": [
    "class Matrix(object):\n",
    "    def __init__(self, n_rows, n_cols, rows):\n",
    "        self.n_rows = n_rows\n",
    "        self.n_cols = n_cols\n",
    "        self.matrix = rows.astype(float)\n",
    "        self.mat = self.matrix\n",
    "        self.det = 1\n",
    "    \n",
    "    def swap_rows(self, r, s):\n",
    "        self.matrix[[r-1, s-1]] = self.matrix[[s-1, r-1]]\n",
    "        self.det = -self.det\n",
    "        return self.matrix\n",
    "    def multiply_row(self, r, l):\n",
    "        self.matrix[r-1] = l * self.matrix[r-1]\n",
    "        self.det = (1/l)*self.det\n",
    "        return self.matrix\n",
    "    def add_row_multiple(self, l, r, s):\n",
    "        self.matrix[s-1] += l * self.matrix[r-1]\n",
    "        return self.matrix\n",
    "    \n",
    "    def shift_zero_rows(self):\n",
    "        all_zeros = self.matrix.any(axis=1)\n",
    "        all_zero_rows = []\n",
    "\n",
    "        for i in range(len(all_zeros)):\n",
    "            if all_zeros[i] == False:\n",
    "                all_zero_rows.append(i)\n",
    "        \n",
    "        self.matrix = np.delete(self.matrix, all_zero_rows, 0)\n",
    "        self.matrix = np.append(self.matrix, np.zeros( (len(all_zero_rows), self.n_cols) ), axis=0)\n",
    "\n",
    "        if self.matrix[0, 0] != 0:\n",
    "            self.matrix = self.multiply_row(1, 1/self.matrix[0, 0])\n",
    "            return self.matrix\n",
    "        else:\n",
    "            for r in range(1, self.n_rows):\n",
    "                if self.matrix[r, 0] == 0:\n",
    "                    continue\n",
    "                else:\n",
    "                    self.matrix = self.swap_rows(1, r+1)\n",
    "                    self.matrix = self.multiply_row(1, 1/self.matrix[0, 0])\n",
    "                    break\n",
    "            return self.matrix\n",
    "        \n",
    "        \n",
    "    def row_reduce(self, find_det = False):\n",
    "        pivot = 0\n",
    "\n",
    "        self.matrix = self.shift_zero_rows()\n",
    "\n",
    "        for r in range(self.n_rows):\n",
    "            for c in range(self.n_cols):\n",
    "                if self.matrix[r, c] == 0:\n",
    "                    continue\n",
    "                else:\n",
    "                    pivot = self.matrix[r, c]\n",
    "                    self.matrix = self.multiply_row(r+1, 1/pivot)\n",
    "                    for a in range(self.n_rows):\n",
    "                        if a==r:\n",
    "                            continue\n",
    "                        else:\n",
    "                            self.matrix = self.add_row_multiple(-self.matrix[a, c], r+1, a+1)\n",
    "                    break\n",
    "                    \n",
    "            print(self.matrix)\n",
    "\n",
    "        if find_det == False:\n",
    "            return self.matrix\n",
    "        else:\n",
    "            if (self.n_rows != self.n_cols) == True: \n",
    "                return \"Matrix must be square!\"\n",
    "            else:\n",
    "                for i in range(self.n_rows):\n",
    "                    self.det *= self.matrix[i, i]\n",
    "            \n",
    "                return (self.matrix, self.det)\n",
    "            \n",
    "    def invert(self):\n",
    "        if (self.n_rows != self.n_cols) == True:\n",
    "            return \"Matrix must be square!\"\n",
    "        else:\n",
    "            n = self.n_rows\n",
    "            \n",
    "        I = np.identity(n)   \n",
    "        self.matrix = np.concatenate((self.matrix, I), 1)\n",
    "        self.n_rows = self.matrix.shape[0]\n",
    "        self.n_cols = self.matrix.shape[1]\n",
    "        red = self.row_reduce()\n",
    "\n",
    "        if (red[:, :n]==I).all() == False:\n",
    "            return \"Not invertible\"\n",
    "        else:\n",
    "            return red[:, n:]\n",
    "\n",
    "        return red"
   ]
  },
  {
   "cell_type": "code",
   "execution_count": 11,
   "metadata": {},
   "outputs": [],
   "source": [
    "A = Matrix(2, 2, np.array(([1, 2], [3, 4])))"
   ]
  },
  {
   "cell_type": "code",
   "execution_count": 15,
   "metadata": {},
   "outputs": [
    {
     "data": {
      "text/plain": [
       "array([[1., 2.],\n",
       "       [3., 4.]])"
      ]
     },
     "execution_count": 15,
     "metadata": {},
     "output_type": "execute_result"
    }
   ],
   "source": [
    "A.mat"
   ]
  },
  {
   "cell_type": "code",
   "execution_count": 13,
   "metadata": {},
   "outputs": [
    {
     "name": "stdout",
     "output_type": "stream",
     "text": [
      "[[ 1.  2.]\n",
      " [ 0. -2.]]\n",
      "[[ 1.  0.]\n",
      " [-0.  1.]]\n"
     ]
    },
    {
     "data": {
      "text/plain": [
       "array([[ 1.,  0.],\n",
       "       [-0.,  1.]])"
      ]
     },
     "execution_count": 13,
     "metadata": {},
     "output_type": "execute_result"
    }
   ],
   "source": [
    "A.row_reduce()"
   ]
  },
  {
   "cell_type": "code",
   "execution_count": 14,
   "metadata": {},
   "outputs": [
    {
     "data": {
      "text/plain": [
       "-2.0"
      ]
     },
     "execution_count": 14,
     "metadata": {},
     "output_type": "execute_result"
    }
   ],
   "source": [
    "A.det"
   ]
  },
  {
   "cell_type": "code",
   "execution_count": 16,
   "metadata": {},
   "outputs": [],
   "source": [
    "A.matrix = A.mat"
   ]
  },
  {
   "cell_type": "code",
   "execution_count": 18,
   "metadata": {},
   "outputs": [
    {
     "name": "stdout",
     "output_type": "stream",
     "text": [
      "[[ 1.  2.  1.  0.]\n",
      " [ 0. -2. -3.  1.]]\n",
      "[[ 1.   0.  -2.   1. ]\n",
      " [-0.   1.   1.5 -0.5]]\n"
     ]
    },
    {
     "data": {
      "text/plain": [
       "array([[-2. ,  1. ],\n",
       "       [ 1.5, -0.5]])"
      ]
     },
     "execution_count": 18,
     "metadata": {},
     "output_type": "execute_result"
    }
   ],
   "source": [
    "A.invert()"
   ]
  },
  {
   "cell_type": "code",
   "execution_count": null,
   "metadata": {},
   "outputs": [],
   "source": []
  }
 ],
 "metadata": {
  "kernelspec": {
   "display_name": "Python 3",
   "language": "python",
   "name": "python3"
  },
  "language_info": {
   "codemirror_mode": {
    "name": "ipython",
    "version": 3
   },
   "file_extension": ".py",
   "mimetype": "text/x-python",
   "name": "python",
   "nbconvert_exporter": "python",
   "pygments_lexer": "ipython3",
   "version": "3.8.8"
  }
 },
 "nbformat": 4,
 "nbformat_minor": 4
}
